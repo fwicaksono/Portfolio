{
 "cells": [
  {
   "cell_type": "code",
   "execution_count": 1,
   "metadata": {},
   "outputs": [],
   "source": [
    "import psycopg2\n",
    "import json\n",
    "import csv\n",
    "import pandas as pd\n",
    "import psycopg2\n",
    "from psycopg2 import sql\n",
    "from psycopg2.extras import execute_values"
   ]
  },
  {
   "cell_type": "code",
   "execution_count": 3,
   "metadata": {},
   "outputs": [],
   "source": [
    "def connect_to_postgres(dbname=None):\n",
    "    \"\"\"Connect to PostgreSQL. If dbname is None, connect to the default database.\"\"\"\n",
    "    return psycopg2.connect(\n",
    "        dbname=dbname or \"postgres\",\n",
    "        user=\"postgres\",\n",
    "        password=\"123456\",\n",
    "        host=\"localhost\",\n",
    "        port=\"5432\"\n",
    "    )\n",
    "\n",
    "def create_database_if_not_exists(dbname):\n",
    "    \"\"\"Create the database if it does not exist.\"\"\"\n",
    "    conn = connect_to_postgres()\n",
    "    conn.autocommit = True\n",
    "    try:\n",
    "        with conn.cursor() as cur:\n",
    "            cur.execute(\n",
    "                sql.SQL(\"CREATE DATABASE {};\").format(sql.Identifier(dbname))\n",
    "            )\n",
    "            print(f\"Database '{dbname}' created successfully.\")\n",
    "    except psycopg2.errors.DuplicateDatabase:\n",
    "        print(f\"Database '{dbname}' already exists.\")\n",
    "    finally:\n",
    "        conn.close()\n",
    "\n",
    "def create_tables_if_not_exists(conn):\n",
    "    \"\"\"Create tables in the database if they do not exist.\"\"\"\n",
    "    table_creation_queries = {\n",
    "    \"coffee_sales\": \"\"\"\n",
    "        CREATE TABLE IF NOT EXISTS coffee_sales (\n",
    "        transaction_id SERIAL PRIMARY KEY,\n",
    "        date DATE NOT NULL,\n",
    "        datetime TIMESTAMP NOT NULL,\n",
    "        cash_type TEXT NOT NULL,\n",
    "        card TEXT NOT NULL,\n",
    "        money NUMERIC(10, 2) NOT NULL,\n",
    "        coffee_name TEXT NOT NULL\n",
    "    );\n",
    "    \"\"\"\n",
    "    }\n",
    "    \n",
    "    with conn.cursor() as cur:\n",
    "        for table, query in table_creation_queries.items():\n",
    "            cur.execute(query)\n",
    "        conn.commit()\n",
    "    print(\"Tables created successfully (if they did not already exist).\")\n",
    "\n",
    "def insert_data_to_postgres(conn, table_name, data):\n",
    "    \"\"\"Insert data into a PostgreSQL table.\"\"\"\n",
    "    with conn.cursor() as cur:\n",
    "        columns = data.columns.tolist()\n",
    "        values = [tuple(x) for x in data.to_numpy()]\n",
    "        insert_query = f\"\"\"\n",
    "        INSERT INTO {table_name} ({', '.join(columns)}) \n",
    "        VALUES %s\n",
    "        \"\"\"\n",
    "        execute_values(cur, insert_query, values)\n",
    "        conn.commit()"
   ]
  },
  {
   "cell_type": "code",
   "execution_count": 4,
   "metadata": {},
   "outputs": [
    {
     "name": "stdout",
     "output_type": "stream",
     "text": [
      "Database 'coffee_sales' created successfully.\n",
      "Tables created successfully (if they did not already exist).\n"
     ]
    }
   ],
   "source": [
    "# Define the database name\n",
    "db_name = \"coffee_sales\"\n",
    "\n",
    "# Create the database if it doesn't exist\n",
    "create_database_if_not_exists(db_name)\n",
    "\n",
    "# Connect to the newly created database\n",
    "conn = connect_to_postgres(dbname=db_name)\n",
    "\n",
    "# Ensure tables exist\n",
    "create_tables_if_not_exists(conn)\n"
   ]
  },
  {
   "cell_type": "code",
   "execution_count": 6,
   "metadata": {},
   "outputs": [],
   "source": [
    "coffee_sales_df = pd.read_csv('Coffee Sales.csv')"
   ]
  },
  {
   "cell_type": "code",
   "execution_count": 7,
   "metadata": {},
   "outputs": [
    {
     "name": "stdout",
     "output_type": "stream",
     "text": [
      "Data successfully transferred to PostgreSQL database.\n"
     ]
    }
   ],
   "source": [
    "try:\n",
    "    # Transfer data to PostgreSQL\n",
    "    insert_data_to_postgres(conn, \"coffee_sales\", coffee_sales_df)\n",
    "    print(\"Data successfully transferred to PostgreSQL database.\")\n",
    "finally:\n",
    "    conn.close()"
   ]
  }
 ],
 "metadata": {
  "kernelspec": {
   "display_name": "Python 3",
   "language": "python",
   "name": "python3"
  },
  "language_info": {
   "codemirror_mode": {
    "name": "ipython",
    "version": 3
   },
   "file_extension": ".py",
   "mimetype": "text/x-python",
   "name": "python",
   "nbconvert_exporter": "python",
   "pygments_lexer": "ipython3",
   "version": "3.11.0rc2"
  }
 },
 "nbformat": 4,
 "nbformat_minor": 2
}

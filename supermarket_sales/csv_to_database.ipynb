{
 "cells": [
  {
   "cell_type": "code",
   "execution_count": 1,
   "metadata": {},
   "outputs": [],
   "source": [
    "import psycopg2\n",
    "import json\n",
    "import csv\n",
    "import pandas as pd\n",
    "import psycopg2\n",
    "from psycopg2 import sql\n",
    "from psycopg2.extras import execute_values\n"
   ]
  },
  {
   "cell_type": "code",
   "execution_count": 2,
   "metadata": {},
   "outputs": [],
   "source": [
    "def connect_to_postgres(dbname=None):\n",
    "    \"\"\"Connect to PostgreSQL. If dbname is None, connect to the default database.\"\"\"\n",
    "    return psycopg2.connect(\n",
    "        dbname=dbname or \"postgres\",\n",
    "        user=\"postgres\",\n",
    "        password=\"123456\",\n",
    "        host=\"localhost\",\n",
    "        port=\"5432\"\n",
    "    )\n",
    "\n",
    "def create_database_if_not_exists(dbname):\n",
    "    \"\"\"Create the database if it does not exist.\"\"\"\n",
    "    conn = connect_to_postgres()\n",
    "    conn.autocommit = True\n",
    "    try:\n",
    "        with conn.cursor() as cur:\n",
    "            cur.execute(\n",
    "                sql.SQL(\"CREATE DATABASE {};\").format(sql.Identifier(dbname))\n",
    "            )\n",
    "            print(f\"Database '{dbname}' created successfully.\")\n",
    "    except psycopg2.errors.DuplicateDatabase:\n",
    "        print(f\"Database '{dbname}' already exists.\")\n",
    "    finally:\n",
    "        conn.close()\n",
    "\n",
    "def create_tables_if_not_exists(conn):\n",
    "    \"\"\"Create tables in the database if they do not exist.\"\"\"\n",
    "    table_creation_queries = {\n",
    "    \"products\": \"\"\"\n",
    "    CREATE TABLE IF NOT EXISTS products (\n",
    "        product_id SERIAL PRIMARY KEY,\n",
    "        product_name TEXT NOT NULL,\n",
    "        price NUMERIC NOT NULL,\n",
    "        category TEXT NOT NULL\n",
    "    );\n",
    "    \"\"\",\n",
    "    \"customers\": \"\"\"\n",
    "    CREATE TABLE IF NOT EXISTS customers (\n",
    "        customer_id SERIAL PRIMARY KEY,\n",
    "        first_name TEXT NOT NULL,\n",
    "        last_name TEXT NOT NULL,\n",
    "        email TEXT NOT NULL,\n",
    "        phone TEXT,\n",
    "        address TEXT,\n",
    "        city TEXT,\n",
    "        gender TEXT,\n",
    "        age INT\n",
    "    );\n",
    "    \"\"\",\n",
    "    \"orders\": \"\"\"\n",
    "    CREATE TABLE IF NOT EXISTS orders (\n",
    "        order_id SERIAL PRIMARY KEY,\n",
    "        customer_id INT REFERENCES customers(customer_id),\n",
    "        order_date DATE NOT NULL,\n",
    "        payment_method TEXT,\n",
    "        total_amount NUMERIC NOT NULL\n",
    "    );\n",
    "    \"\"\",\n",
    "    \"order_details\": \"\"\"\n",
    "    CREATE TABLE IF NOT EXISTS order_details (\n",
    "        order_detail_id SERIAL PRIMARY KEY,\n",
    "        order_id INT REFERENCES orders(order_id),\n",
    "        product_id INT REFERENCES products(product_id),\n",
    "        quantity INT NOT NULL,\n",
    "        subtotal NUMERIC NOT NULL\n",
    "    );\n",
    "    \"\"\"\n",
    "    }\n",
    "    \n",
    "    with conn.cursor() as cur:\n",
    "        for table, query in table_creation_queries.items():\n",
    "            cur.execute(query)\n",
    "        conn.commit()\n",
    "    print(\"Tables created successfully (if they did not already exist).\")\n",
    "\n",
    "def insert_data_to_postgres(conn, table_name, data):\n",
    "    \"\"\"Insert data into a PostgreSQL table.\"\"\"\n",
    "    with conn.cursor() as cur:\n",
    "        columns = data.columns.tolist()\n",
    "        values = [tuple(x) for x in data.to_numpy()]\n",
    "        insert_query = f\"\"\"\n",
    "        INSERT INTO {table_name} ({', '.join(columns)}) \n",
    "        VALUES %s\n",
    "        \"\"\"\n",
    "        execute_values(cur, insert_query, values)\n",
    "        conn.commit()"
   ]
  },
  {
   "cell_type": "code",
   "execution_count": 3,
   "metadata": {},
   "outputs": [
    {
     "name": "stdout",
     "output_type": "stream",
     "text": [
      "Database 'supermarket' created successfully.\n",
      "Tables created successfully (if they did not already exist).\n"
     ]
    }
   ],
   "source": [
    "# Define the database name\n",
    "db_name = \"supermarket\"\n",
    "\n",
    "# Create the database if it doesn't exist\n",
    "create_database_if_not_exists(db_name)\n",
    "\n",
    "# Connect to the newly created database\n",
    "conn = connect_to_postgres(dbname=db_name)\n",
    "\n",
    "# Ensure tables exist\n",
    "create_tables_if_not_exists(conn)\n"
   ]
  },
  {
   "cell_type": "code",
   "execution_count": 4,
   "metadata": {},
   "outputs": [],
   "source": [
    "# Load CSV files into DataFrames\n",
    "customers_df = pd.read_csv('customers.csv')\n",
    "order_details_df = pd.read_csv('order_details.csv')\n",
    "orders_df = pd.read_csv('orders.csv')\n",
    "products_df = pd.read_csv('products.csv')"
   ]
  },
  {
   "cell_type": "code",
   "execution_count": 5,
   "metadata": {},
   "outputs": [
    {
     "name": "stdout",
     "output_type": "stream",
     "text": [
      "Data successfully transferred to PostgreSQL database.\n"
     ]
    }
   ],
   "source": [
    "try:\n",
    "    # Transfer data to PostgreSQL\n",
    "    insert_data_to_postgres(conn, \"products\", products_df)\n",
    "    insert_data_to_postgres(conn, \"customers\", customers_df)\n",
    "    insert_data_to_postgres(conn, \"orders\", orders_df)\n",
    "    insert_data_to_postgres(conn, \"order_details\", order_details_df)\n",
    "    print(\"Data successfully transferred to PostgreSQL database.\")\n",
    "finally:\n",
    "    conn.close()"
   ]
  }
 ],
 "metadata": {
  "kernelspec": {
   "display_name": "Python 3",
   "language": "python",
   "name": "python3"
  },
  "language_info": {
   "codemirror_mode": {
    "name": "ipython",
    "version": 3
   },
   "file_extension": ".py",
   "mimetype": "text/x-python",
   "name": "python",
   "nbconvert_exporter": "python",
   "pygments_lexer": "ipython3",
   "version": "3.11.0rc2"
  }
 },
 "nbformat": 4,
 "nbformat_minor": 2
}

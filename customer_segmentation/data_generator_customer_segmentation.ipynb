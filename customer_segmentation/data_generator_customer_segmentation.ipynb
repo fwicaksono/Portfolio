{
 "cells": [
  {
   "cell_type": "code",
   "execution_count": 1,
   "metadata": {},
   "outputs": [
    {
     "name": "stdout",
     "output_type": "stream",
     "text": [
      "Dataset generated and saved to 'customer_segmentation_dataset.json'\n"
     ]
    }
   ],
   "source": [
    "import json\n",
    "import random\n",
    "import numpy as np\n",
    "\n",
    "# Define constants for dataset generation\n",
    "NUM_CUSTOMERS = 50000\n",
    "\n",
    "# Define membership levels\n",
    "MEMBERSHIP_LEVELS = [\"Bronze\", \"Silver\", \"Gold\", \"Platinum\"]\n",
    "\n",
    "# Define product categories\n",
    "PRODUCT_CATEGORIES = [\n",
    "    \"Household appliances\",\n",
    "    \"Furniture\",\n",
    "    \"Tools\",\n",
    "    \"Stationery and sports equipment\",\n",
    "    \"Jewelry and cosmetics\",\n",
    "    \"Toys\",\n",
    "    \"Car accessories\",\n",
    "    \"Electrical appliances\",\n",
    "    \"Gifts\",\n",
    "    \"Computer and mobile phone accessories\"\n",
    "]\n",
    "\n",
    "# Function to generate random customer data\n",
    "def generate_customer_data():\n",
    "    customer_id = random.randint(100000, 999999)\n",
    "    age = random.randint(18, 80)\n",
    "    gender = random.choice([\"Male\", \"Female\", \"Other\"])\n",
    "    income = round(random.uniform(15000, 120000), 2)  # Annual income\n",
    "    membership_level = random.choices(MEMBERSHIP_LEVELS, weights=[50, 30, 15, 5])[0]\n",
    "    total_spent = round(random.uniform(100, 10000), 2)\n",
    "    visits_per_year = random.randint(1, 50)\n",
    "    average_basket_size = round(random.uniform(10, 1000), 2)\n",
    "    preferred_categories = random.sample(PRODUCT_CATEGORIES, random.randint(1, 5))\n",
    "    online_shopper = random.choice([True, False])\n",
    "    promotion_response_rate = round(random.uniform(0, 1), 2)  # Proportion of promotions responded to\n",
    "    loyalty_points = random.randint(0, 5000)\n",
    "\n",
    "    return {\n",
    "        \"customer_id\": customer_id,\n",
    "        \"age\": age,\n",
    "        \"gender\": gender,\n",
    "        \"income\": income,\n",
    "        \"membership_level\": membership_level,\n",
    "        \"total_spent\": total_spent,\n",
    "        \"visits_per_year\": visits_per_year,\n",
    "        \"average_basket_size\": average_basket_size,\n",
    "        \"preferred_categories\": preferred_categories,\n",
    "        \"online_shopper\": online_shopper,\n",
    "        \"promotion_response_rate\": promotion_response_rate,\n",
    "        \"loyalty_points\": loyalty_points\n",
    "    }\n",
    "\n",
    "# Generate dataset\n",
    "def generate_dataset(num_customers):\n",
    "    return [generate_customer_data() for _ in range(num_customers)]\n",
    "\n",
    "# Save dataset to JSON file\n",
    "def save_to_json(data, filename):\n",
    "    with open(filename, \"w\") as file:\n",
    "        json.dump(data, file, indent=4)\n",
    "\n",
    "# Generate and save the dataset\n",
    "data = generate_dataset(NUM_CUSTOMERS)\n",
    "save_to_json(data, \"customer_segmentation_dataset.json\")\n",
    "\n",
    "print(\"Dataset generated and saved to 'customer_segmentation_dataset.json'\")\n"
   ]
  }
 ],
 "metadata": {
  "kernelspec": {
   "display_name": "Python 3",
   "language": "python",
   "name": "python3"
  },
  "language_info": {
   "codemirror_mode": {
    "name": "ipython",
    "version": 3
   },
   "file_extension": ".py",
   "mimetype": "text/x-python",
   "name": "python",
   "nbconvert_exporter": "python",
   "pygments_lexer": "ipython3",
   "version": "3.11.0"
  }
 },
 "nbformat": 4,
 "nbformat_minor": 2
}

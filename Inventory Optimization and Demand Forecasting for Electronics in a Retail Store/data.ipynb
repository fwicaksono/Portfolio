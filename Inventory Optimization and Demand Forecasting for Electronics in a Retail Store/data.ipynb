{
 "cells": [
  {
   "cell_type": "code",
   "execution_count": 1,
   "metadata": {},
   "outputs": [
    {
     "name": "stdout",
     "output_type": "stream",
     "text": [
      "        Date                    Product  Quantity_Sold  Inventory_Level  \\\n",
      "0 2023-04-13  Power Bank Ultra 10000mAh             10              128   \n",
      "1 2023-12-15              Smartphone X1             15               78   \n",
      "2 2023-09-28      Wireless Earphone Pro             14              142   \n",
      "3 2023-04-17        Smartwatch Series 5              4              154   \n",
      "4 2023-03-13           USB-C Hub 6-in-1              2              190   \n",
      "\n",
      "   Price  Month  \n",
      "0     80      4  \n",
      "1     35     12  \n",
      "2     80      9  \n",
      "3    150      4  \n",
      "4     60      3  \n"
     ]
    }
   ],
   "source": [
    "import pandas as pd\n",
    "import numpy as np\n",
    "\n",
    "# Parameters\n",
    "np.random.seed(42)\n",
    "dates = pd.date_range(start=\"2023-01-01\", end=\"2023-12-31\", freq=\"D\")\n",
    "products = [\n",
    "    \"Smartphone X1\", \"Power Bank Ultra 10000mAh\", \"Wireless Earphone Pro\", \n",
    "    \"Smartwatch Series 5\", \"Laptop Charger Type-C\", \"Bluetooth Speaker Mini\", \n",
    "    \"Tablet Stand Adjustable\", \"USB-C Hub 6-in-1\", \"Desk Fan CoolBreeze\", \n",
    "    \"LED Desk Lamp Pro\"\n",
    "]\n",
    "\n",
    "# Generate data\n",
    "data = {\n",
    "    \"Date\": np.random.choice(dates, size=5000),\n",
    "    \"Product\": np.random.choice(products, size=5000, p=[0.15, 0.1, 0.1, 0.05, 0.1, 0.05, 0.1, 0.1, 0.1, 0.15]),\n",
    "    \"Quantity_Sold\": np.random.randint(1, 20, size=5000),\n",
    "    \"Inventory_Level\": np.random.randint(10, 200, size=5000),\n",
    "    \"Price\": np.random.choice([50, 30, 80, 150, 25, 40, 20, 35, 15, 60], size=5000),\n",
    "}\n",
    "\n",
    "df = pd.DataFrame(data)\n",
    "df[\"Month\"] = pd.to_datetime(df[\"Date\"]).dt.month\n",
    "\n",
    "# Save data to CSV\n",
    "df.to_csv(\"electronic_store_sales.csv\", index=False)\n",
    "print(df.head())"
   ]
  }
 ],
 "metadata": {
  "kernelspec": {
   "display_name": "Python 3",
   "language": "python",
   "name": "python3"
  },
  "language_info": {
   "codemirror_mode": {
    "name": "ipython",
    "version": 3
   },
   "file_extension": ".py",
   "mimetype": "text/x-python",
   "name": "python",
   "nbconvert_exporter": "python",
   "pygments_lexer": "ipython3",
   "version": "3.11.0rc2"
  }
 },
 "nbformat": 4,
 "nbformat_minor": 2
}
